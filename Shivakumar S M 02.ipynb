{
 "cells": [
  {
   "cell_type": "markdown",
   "id": "cb4f796b",
   "metadata": {},
   "source": [
    "# SHIVAKUMAR S M\n",
    "# USN: 4PM20ME026"
   ]
  },
  {
   "cell_type": "markdown",
   "id": "dc0f3b2a",
   "metadata": {},
   "source": [
    "### Q2 Steam at a pressure of 15 bar and 250C is expanded through a turbine at first to a pressure of 4 bar. It is then reheated at constant pressure to initial temperature of 250C and then it is finally expanded to 0.1 bar. Estimate workdone per Kg of steam flowing through the turbine and amount of heat supplied during reheat process."
   ]
  },
  {
   "cell_type": "code",
   "execution_count": 14,
   "id": "1e39fd15",
   "metadata": {},
   "outputs": [],
   "source": [
    "P1=15\n",
    "P2=4\n",
    "T1=250\n",
    "T3=250\n",
    "P4=0.1"
   ]
  },
  {
   "cell_type": "code",
   "execution_count": 3,
   "id": "79a4a1ee",
   "metadata": {},
   "outputs": [],
   "source": [
    "# At 15 bar Tsat=198C \n",
    "h1=2923.5 \n",
    "s1=6.7099 \n",
    "s2=6.7099\n",
    "sf2=1.7764\n",
    "sfg2=5.1179"
   ]
  },
  {
   "cell_type": "code",
   "execution_count": 4,
   "id": "a7c6ea42",
   "metadata": {},
   "outputs": [],
   "source": [
    "# at P4=0.1 bar\n",
    "hf2=604.7\n",
    "hfg2=2123.9\n",
    "h3=2964.5\n",
    "s3=7.3800\n",
    "h5=191.8"
   ]
  },
  {
   "cell_type": "code",
   "execution_count": 5,
   "id": "85fe857c",
   "metadata": {},
   "outputs": [],
   "source": [
    "# at P=4 bar\n",
    "s4=7.3800\n",
    "sf4=0.6493\n",
    "sfg4=7.5018\n",
    "hf4=191.8\n",
    "hfg4=2392.9"
   ]
  },
  {
   "cell_type": "code",
   "execution_count": 7,
   "id": "8c4231f6",
   "metadata": {},
   "outputs": [
    {
     "data": {
      "text/plain": [
       "('drynessfraction=', 0.96, 0.9)"
      ]
     },
     "execution_count": 7,
     "metadata": {},
     "output_type": "execute_result"
    }
   ],
   "source": [
    "def drynessfraction():\n",
    "    x2=(s2-sf2)/sfg2\n",
    "    x4=(s4-sf4)/sfg4\n",
    "    return 'drynessfraction=',round(x2,2),round(x4,2)\n",
    "drynessfraction()"
   ]
  },
  {
   "cell_type": "code",
   "execution_count": 10,
   "id": "40013efb",
   "metadata": {},
   "outputs": [
    {
     "data": {
      "text/plain": [
       "('enthalphy=', 2643.64, 2345.41)"
      ]
     },
     "execution_count": 10,
     "metadata": {},
     "output_type": "execute_result"
    }
   ],
   "source": [
    "def enthalpy():\n",
    "    x2=0.96\n",
    "    x4=0.9\n",
    "    h2=hf2+(x2*hfg2)\n",
    "    h4=hf4+(x4*hfg4)\n",
    "    return 'enthalphy=',round(h2,2),round(h4,2)\n",
    "enthalpy()"
   ]
  },
  {
   "cell_type": "code",
   "execution_count": 12,
   "id": "29aed8ad",
   "metadata": {},
   "outputs": [
    {
     "data": {
      "text/plain": [
       "('workdone=', 899.26)"
      ]
     },
     "execution_count": 12,
     "metadata": {},
     "output_type": "execute_result"
    }
   ],
   "source": [
    "def workdone():\n",
    "    h2=2643.64\n",
    "    h4=2345.1\n",
    "    W=(h1-h2)+(h3-h4)\n",
    "    return 'workdone=',round(W,2)\n",
    "workdone()"
   ]
  },
  {
   "cell_type": "code",
   "execution_count": 13,
   "id": "6dddcf1d",
   "metadata": {},
   "outputs": [
    {
     "data": {
      "text/plain": [
       "('heatsupplied=', 3052.7)"
      ]
     },
     "execution_count": 13,
     "metadata": {},
     "output_type": "execute_result"
    }
   ],
   "source": [
    "#h5=hf @ 0.1 bar. hf=191.8\n",
    "h3=2964.5\n",
    "h2=2643.5\n",
    "def heatsupplied():\n",
    "    HS=(h3-h2)+(h1-h5)\n",
    "    return 'heatsupplied=',round(HS,2)\n",
    "heatsupplied()"
   ]
  },
  {
   "cell_type": "code",
   "execution_count": 14,
   "id": "01bfa03d",
   "metadata": {},
   "outputs": [],
   "source": [
    "# determined values\n",
    "h2=2643.64\n",
    "h4=2345.41\n",
    "h5=191.8\n",
    "h6=341.8\n",
    "s5=0.6493\n",
    "s6=0.6493"
   ]
  },
  {
   "cell_type": "code",
   "execution_count": 15,
   "id": "795fef07",
   "metadata": {},
   "outputs": [],
   "source": [
    "%matplotlib inline\n",
    "import matplotlib.pyplot as plt\n",
    "import numpy as num"
   ]
  },
  {
   "cell_type": "code",
   "execution_count": 16,
   "id": "dace819b",
   "metadata": {},
   "outputs": [],
   "source": [
    "x=[s1,s2,s3,s4,s5,s6,s1]\n",
    "y=[h1,h2,h3,h4,h5,h6,h1]"
   ]
  },
  {
   "cell_type": "code",
   "execution_count": 18,
   "id": "4bab149b",
   "metadata": {},
   "outputs": [
    {
     "data": {
      "image/png": "[encoded data removed]",
      "text/plain": [
       "<Figure size 504x360 with 1 Axes>"
      ]
     },
     "metadata": {
      "needs_background": "light"
     },
     "output_type": "display_data"
    }
   ],
   "source": [
    "plt.figure(figsize=(7,5))\n",
    "plt.plot((s1,s2),(h1,h2), marker='o',color = 'r',label='reversible adiabatic expansion')\n",
    "plt.plot((s2,s3),(h2,h3), marker='o',color = 'b',label='reheting')\n",
    "plt.plot((s3,s4),(h3,h4), marker='o',color = 'r',label='reversible adiabatic expansion')\n",
    "plt.plot((s4,s5),(h4,h5), marker='o',color = 'm',label='reversible isobaric heat rejection')\n",
    "plt.plot((s5,s6),(h5,h6), marker='o',color = 'g',label='reversible adiabatic compression')\n",
    "plt.plot((s6,s1),(h6,h1), marker='o',color = 'c',label='reversible isobaric heat addition')\n",
    "\n",
    "plt.legend()\n",
    "plt.show()"
   ]
  },
  {
   "cell_type": "code",
   "execution_count": null,
   "id": "c3fa540b",
   "metadata": {},
   "outputs": [],
   "source": []
  }
 ],
 "metadata": {
  "kernelspec": {
   "display_name": "Python 3 (ipykernel)",
   "language": "python",
   "name": "python3"
  },
  "language_info": {
   "codemirror_mode": {
    "name": "ipython",
    "version": 3
   },
   "file_extension": ".py",
   "mimetype": "text/x-python",
   "name": "python",
   "nbconvert_exporter": "python",
   "pygments_lexer": "ipython3",
   "version": "3.9.12"
  }
 },
 "nbformat": 4,
 "nbformat_minor": 5
}
