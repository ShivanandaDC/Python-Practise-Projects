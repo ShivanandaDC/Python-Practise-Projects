{
 "cells": [
  {
   "cell_type": "markdown",
   "id": "7bde9ff3",
   "metadata": {},
   "source": [
    "### STEPHEN F S\n",
    "\n",
    "### USN : 4PM20ME029"
   ]
  },
  {
   "cell_type": "markdown",
   "id": "cc865844",
   "metadata": {},
   "source": [
    "#### Q1. The maximum & minimum pressure & temperatureof gas turbine are 5 bar & 1.2 bar, 100k &300k. Assuming compression & expansion process of Isentropic. Determine thermal efficiency. 1)When an ideal regeneration incorporated in the plant. 2)When the effectiveness of the above regeneration is 75%."
   ]
  },
  {
   "cell_type": "code",
   "execution_count": 61,
   "id": "8c32b14f",
   "metadata": {},
   "outputs": [],
   "source": [
    "# Given,\n",
    "T_1=300\n",
    "P_1=1.2\n",
    "\n",
    "P_2=5\n",
    "\n",
    "T_3=1000\n",
    "P_3=5\n",
    "\n",
    "P_4=1.2\n",
    "\n",
    "T_min=300\n",
    "T_max=1000\n",
    "\n",
    "P_max=5\n",
    "P_min=1.2\n",
    "\n",
    "gamma=1.4\n",
    "\n",
    "N=0.75"
   ]
  },
  {
   "cell_type": "code",
   "execution_count": 62,
   "id": "9f766eed",
   "metadata": {},
   "outputs": [],
   "source": [
    "T_2=451.03\n",
    "T_4=665.15\n",
    "T_5=665.15\n",
    "Nw= 183.82\n",
    "T_5_1= 611.62\n",
    "Hs= 334.85\n",
    "Hs_1= 388.38"
   ]
  },
  {
   "cell_type": "code",
   "execution_count": 63,
   "id": "39ef2f0f",
   "metadata": {},
   "outputs": [
    {
     "data": {
      "text/plain": [
       "('T_1=', 300, 'T_2=', 451.028, 'T_3=', 1000, 'T_4=', 665.15, 'T_5=', 665.15)"
      ]
     },
     "execution_count": 63,
     "metadata": {},
     "output_type": "execute_result"
    }
   ],
   "source": [
    "# Temperature,\n",
    "def Temperature():\n",
    "    T_1=T_min\n",
    "    T_2=(((P_2/P_1)**((gamma-1)/(gamma)))*T_1)\n",
    "    T_3=T_max\n",
    "    T_4=(T_3/((P_3/P_4)**((gamma-1)/(gamma))))\n",
    "    T_5=(T_3/((P_3/P_4)**((gamma-1)/(gamma))))\n",
    "    \n",
    "    return 'T_1=',round(T_1,2),'T_2=',round(T_2,3),'T_3=',round(T_3,2),'T_4=',round(T_4,2),'T_5=',round(T_5,2)\n",
    "\n",
    "Temperature()"
   ]
  },
  {
   "cell_type": "code",
   "execution_count": 64,
   "id": "b3bf73c2",
   "metadata": {},
   "outputs": [
    {
     "data": {
      "text/plain": [
       "('P_1=', 1.2, 'P_2=', 5, 'P_3=', 5, 'P_4=', 1.2)"
      ]
     },
     "execution_count": 64,
     "metadata": {},
     "output_type": "execute_result"
    }
   ],
   "source": [
    "# Pressure,\n",
    "\n",
    "def Pressure():\n",
    "    P_1=P_min   \n",
    "    P_2=P_max\n",
    "    P_3=P_max\n",
    "    P_4=P_min\n",
    "    \n",
    "    return 'P_1=',round(P_1,2),'P_2=',round(P_2,2),'P_3=',round(P_3,2),'P_4=',round(P_4,2)\n",
    "\n",
    "Pressure()"
   ]
  },
  {
   "cell_type": "code",
   "execution_count": 65,
   "id": "f01e0ee0",
   "metadata": {},
   "outputs": [
    {
     "data": {
      "text/plain": [
       "('HeatSupplied=', 334.85)"
      ]
     },
     "execution_count": 65,
     "metadata": {},
     "output_type": "execute_result"
    }
   ],
   "source": [
    "# Heat Supplied,\n",
    "\n",
    "def HeatSupplied():\n",
    "    \n",
    "    Hs=T_3-T_5\n",
    "    return 'HeatSupplied=',round(Hs,2)\n",
    "\n",
    "HeatSupplied()"
   ]
  },
  {
   "cell_type": "code",
   "execution_count": 66,
   "id": "04fa1ef0",
   "metadata": {},
   "outputs": [
    {
     "data": {
      "text/plain": [
       "('NetWorkdone=', 183.82)"
      ]
     },
     "execution_count": 66,
     "metadata": {},
     "output_type": "execute_result"
    }
   ],
   "source": [
    "# Net Work Done,\n",
    "\n",
    "def NetWorkdone():\n",
    "    \n",
    "    Nw=((T_3-T_4)-(T_2-T_1))\n",
    "\n",
    "    return 'NetWorkdone=',round (Nw,2)\n",
    "\n",
    "NetWorkdone()"
   ]
  },
  {
   "cell_type": "code",
   "execution_count": 67,
   "id": "4cf8e6df",
   "metadata": {},
   "outputs": [
    {
     "data": {
      "text/plain": [
       "('IdealRegeneration=', 54.9)"
      ]
     },
     "execution_count": 67,
     "metadata": {},
     "output_type": "execute_result"
    }
   ],
   "source": [
    "# Ideal Regeneration,\n",
    "\n",
    "def IdealRegeneration():\n",
    "    \n",
    "    n_1=(Nw/Hs)*100\n",
    "    return 'IdealRegeneration=',round(n_1,2)\n",
    "\n",
    "\n",
    "IdealRegeneration()"
   ]
  },
  {
   "cell_type": "code",
   "execution_count": 68,
   "id": "fc3e3fcd",
   "metadata": {},
   "outputs": [
    {
     "data": {
      "text/plain": [
       "('Regenarator=', 611.62)"
      ]
     },
     "execution_count": 68,
     "metadata": {},
     "output_type": "execute_result"
    }
   ],
   "source": [
    "#Regenarator with E=75%,\n",
    "\n",
    "def Regenarator():\n",
    "    \n",
    "    T_5_1=(N*(T_4-T_2))+T_2\n",
    "    return 'Regenarator=',round(T_5_1,2)\n",
    "\n",
    "Regenarator()"
   ]
  },
  {
   "cell_type": "code",
   "execution_count": 69,
   "id": "3dfca5eb",
   "metadata": {},
   "outputs": [
    {
     "data": {
      "text/plain": [
       "('HeatSupplied_1=', 388.38)"
      ]
     },
     "execution_count": 69,
     "metadata": {},
     "output_type": "execute_result"
    }
   ],
   "source": [
    "# Regenarator with E=75%,\n",
    "\n",
    "def HeatSupplied_1():\n",
    "    Hs_1=T_3-T_5_1\n",
    "    return 'HeatSupplied_1=',round(Hs_1,2)\n",
    "\n",
    "HeatSupplied_1()"
   ]
  },
  {
   "cell_type": "code",
   "execution_count": 70,
   "id": "393948a2",
   "metadata": {},
   "outputs": [
    {
     "data": {
      "text/plain": [
       "('Efficiency=', 47.33)"
      ]
     },
     "execution_count": 70,
     "metadata": {},
     "output_type": "execute_result"
    }
   ],
   "source": [
    "#Regenarator with E=75%,\n",
    "\n",
    "def Efficiency():\n",
    "    \n",
    "     \n",
    "    N_2=(Nw/Hs_1)*100\n",
    "    return 'Efficiency=',round(N_2,2)\n",
    "\n",
    "\n",
    "Efficiency()"
   ]
  },
  {
   "cell_type": "code",
   "execution_count": 71,
   "id": "c59d3e13",
   "metadata": {},
   "outputs": [],
   "source": [
    "# Pressure,\n",
    "P_1=1.2\n",
    "P_2=5\n",
    "P_3=5\n",
    "P_4=1.2"
   ]
  },
  {
   "cell_type": "code",
   "execution_count": 72,
   "id": "dcdceb41",
   "metadata": {},
   "outputs": [],
   "source": [
    "# Volume,\n",
    "V_1=20.78\n",
    "V_2=7.49\n",
    "V_3=16.60\n",
    "V_4=46"
   ]
  },
  {
   "cell_type": "code",
   "execution_count": 73,
   "id": "33f48f0d",
   "metadata": {},
   "outputs": [],
   "source": [
    "%matplotlib inline\n",
    "import matplotlib.pyplot as plt\n",
    "import numpy as num"
   ]
  },
  {
   "cell_type": "code",
   "execution_count": 74,
   "id": "bc79a059",
   "metadata": {},
   "outputs": [],
   "source": [
    "x=[V_1,V_2,V_3,V_4,V_1]\n",
    "y=[P_1,P_2,P_3,P_4,P_1]"
   ]
  },
  {
   "cell_type": "code",
   "execution_count": 78,
   "id": "8e9a6d07",
   "metadata": {
    "scrolled": false
   },
   "outputs": [
    {
     "data": {
      "image/png": "[encoded data removed]",
      "text/plain": [
       "<Figure size 504x360 with 1 Axes>"
      ]
     },
     "metadata": {
      "needs_background": "light"
     },
     "output_type": "display_data"
    }
   ],
   "source": [
    "plt.figure(figsize=(7,5))\n",
    "plt.plot((V_1,V_2),(P_1,P_2), marker='o',color = 'r',label='reversible adiabatic compression')\n",
    "plt.plot((V_2,V_3),(P_2,P_3), marker='o',color = 'b',label='reversivle isobaric heat addition')\n",
    "plt.plot((V_3,V_4),(P_3,P_4), marker='o',color = 'g',label='reversivle adiabatic expansion')\n",
    "plt.plot((V_4,V_1),(P_4,P_1), marker='o',color = 'm',label='reversivle isobaric heat rejection')\n",
    "plt.title('PV Diagram',fontdict={'fontsize':20})\n",
    "plt.xlabel('Volume →',fontdict={'fontsize':15})\n",
    "plt.ylabel('Pressure →',fontdict={'fontsize':15})\n",
    "\n",
    "plt.legend()\n",
    "plt.show()"
   ]
  }
 ],
 "metadata": {
  "kernelspec": {
   "display_name": "Python 3 (ipykernel)",
   "language": "python",
   "name": "python3"
  },
  "language_info": {
   "codemirror_mode": {
    "name": "ipython",
    "version": 3
   },
   "file_extension": ".py",
   "mimetype": "text/x-python",
   "name": "python",
   "nbconvert_exporter": "python",
   "pygments_lexer": "ipython3",
   "version": "3.9.12"
  }
 },
 "nbformat": 4,
 "nbformat_minor": 5
}
